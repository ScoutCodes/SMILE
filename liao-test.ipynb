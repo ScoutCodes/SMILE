{
 "cells": [
  {
   "cell_type": "code",
   "execution_count": 33,
   "metadata": {},
   "outputs": [],
   "source": [
    "import numpy as np\n",
    "import pandas as pd\n",
    "\n",
    "from scipy.interpolate import griddata\n",
    "from scipy.special import gamma\n",
    "from scipy.stats import percentileofscore\n",
    "from sklearn.gaussian_process import GaussianProcessRegressor\n",
    "from sklearn.gaussian_process.kernels import RBF"
   ]
  },
  {
   "cell_type": "code",
   "execution_count": 34,
   "metadata": {},
   "outputs": [],
   "source": [
    "np.random.seed(0)\n",
    "\n",
    "obj = \"liao_test\"\n",
    "\n",
    "m = 5\n",
    "n = 10000\n",
    "\n",
    "percentile = 50\n",
    "\n",
    "iterations = 10\n",
    "\n",
    "laplace_alpha = 0.1"
   ]
  },
  {
   "cell_type": "code",
   "execution_count": 35,
   "metadata": {},
   "outputs": [],
   "source": [
    "def liao_physical(X):\n",
    "    alpha = 4 + 3 * X[2]**2 - 2 * X[3]**2 + 3 * X[2] * X[3]\n",
    "    beta = 100 + 10 * X[0]**2 + 6 * X[1]**2 - 5 * X[0] * X[1] + 10 * X[2]**1.5 - 8 * X[3]**2\n",
    "\n",
    "    return beta * gamma(1 + 1 / alpha)\n",
    "\n",
    "def liao_simulation(X):\n",
    "    alpha = 4.5 + 2.5 * X[2]**2 - 2.5 * X[3]**2 + 3.5 * X[2] * X[3]\n",
    "    # beta = 100 + 9 * X[0]**2 + 6.5 * X[1]**2 + 10 * X[2]**2 - 8 * X[3]**2\n",
    "    beta = 100 + 9 * 1**2 + 6.5 * 1**2 + 10 * X[2]**2 - 8 * X[3]**2\n",
    "\n",
    "    return beta * gamma(1 + 1 / alpha)\n",
    "\n",
    "objectives = {\n",
    "    \"liao_test\": {\n",
    "        \"func\": liao_physical,\n",
    "        \"bounds\": [(0, 1)] * 4\n",
    "    }\n",
    "}"
   ]
  },
  {
   "cell_type": "code",
   "execution_count": 36,
   "metadata": {},
   "outputs": [],
   "source": [
    "obj = list(objectives.keys())[-1] if obj is None else obj\n",
    "\n",
    "x_range = objectives[obj][\"bounds\"]\n",
    "\n",
    "X = [np.arange(*x_range[i], ((x_range[i][1] - x_range[i][0]) / 100)) for i in range(len(x_range))]\n",
    "X = np.meshgrid(*X)\n",
    "\n",
    "Y = objectives[obj][\"func\"](X)\n",
    "\n",
    "y_range = (np.floor(np.min(Y)) - 1, np.ceil(np.max(Y)) + 1)"
   ]
  },
  {
   "cell_type": "code",
   "execution_count": 37,
   "metadata": {},
   "outputs": [],
   "source": [
    "ran_err = lambda n, x: np.random.normal(0, x, n)"
   ]
  },
  {
   "cell_type": "code",
   "execution_count": 38,
   "metadata": {},
   "outputs": [
    {
     "name": "stderr",
     "output_type": "stream",
     "text": [
      "c:\\Program Files\\Python310\\lib\\site-packages\\sklearn\\gaussian_process\\kernels.py:420: ConvergenceWarning: The optimal value found for dimension 0 of parameter length_scale is close to the specified lower bound 1e-05. Decreasing the bound and calling fit again may find a better value.\n",
      "  warnings.warn(\n",
      "c:\\Program Files\\Python310\\lib\\site-packages\\sklearn\\gaussian_process\\kernels.py:420: ConvergenceWarning: The optimal value found for dimension 0 of parameter length_scale is close to the specified lower bound 1e-05. Decreasing the bound and calling fit again may find a better value.\n",
      "  warnings.warn(\n",
      "c:\\Program Files\\Python310\\lib\\site-packages\\sklearn\\gaussian_process\\kernels.py:420: ConvergenceWarning: The optimal value found for dimension 0 of parameter length_scale is close to the specified lower bound 1e-05. Decreasing the bound and calling fit again may find a better value.\n",
      "  warnings.warn(\n",
      "c:\\Program Files\\Python310\\lib\\site-packages\\sklearn\\gaussian_process\\kernels.py:420: ConvergenceWarning: The optimal value found for dimension 0 of parameter length_scale is close to the specified lower bound 1e-05. Decreasing the bound and calling fit again may find a better value.\n",
      "  warnings.warn(\n",
      "c:\\Program Files\\Python310\\lib\\site-packages\\sklearn\\gaussian_process\\kernels.py:420: ConvergenceWarning: The optimal value found for dimension 0 of parameter length_scale is close to the specified lower bound 1e-05. Decreasing the bound and calling fit again may find a better value.\n",
      "  warnings.warn(\n",
      "c:\\Program Files\\Python310\\lib\\site-packages\\sklearn\\gaussian_process\\kernels.py:420: ConvergenceWarning: The optimal value found for dimension 0 of parameter length_scale is close to the specified lower bound 1e-05. Decreasing the bound and calling fit again may find a better value.\n",
      "  warnings.warn(\n",
      "c:\\Program Files\\Python310\\lib\\site-packages\\sklearn\\gaussian_process\\kernels.py:420: ConvergenceWarning: The optimal value found for dimension 0 of parameter length_scale is close to the specified lower bound 1e-05. Decreasing the bound and calling fit again may find a better value.\n",
      "  warnings.warn(\n",
      "c:\\Program Files\\Python310\\lib\\site-packages\\sklearn\\gaussian_process\\kernels.py:420: ConvergenceWarning: The optimal value found for dimension 0 of parameter length_scale is close to the specified lower bound 1e-05. Decreasing the bound and calling fit again may find a better value.\n",
      "  warnings.warn(\n",
      "c:\\Program Files\\Python310\\lib\\site-packages\\sklearn\\gaussian_process\\kernels.py:420: ConvergenceWarning: The optimal value found for dimension 0 of parameter length_scale is close to the specified lower bound 1e-05. Decreasing the bound and calling fit again may find a better value.\n",
      "  warnings.warn(\n",
      "c:\\Program Files\\Python310\\lib\\site-packages\\sklearn\\gaussian_process\\kernels.py:420: ConvergenceWarning: The optimal value found for dimension 0 of parameter length_scale is close to the specified lower bound 1e-05. Decreasing the bound and calling fit again may find a better value.\n",
      "  warnings.warn(\n"
     ]
    },
    {
     "data": {
      "text/html": [
       "<style>#sk-container-id-5 {color: black;background-color: white;}#sk-container-id-5 pre{padding: 0;}#sk-container-id-5 div.sk-toggleable {background-color: white;}#sk-container-id-5 label.sk-toggleable__label {cursor: pointer;display: block;width: 100%;margin-bottom: 0;padding: 0.3em;box-sizing: border-box;text-align: center;}#sk-container-id-5 label.sk-toggleable__label-arrow:before {content: \"▸\";float: left;margin-right: 0.25em;color: #696969;}#sk-container-id-5 label.sk-toggleable__label-arrow:hover:before {color: black;}#sk-container-id-5 div.sk-estimator:hover label.sk-toggleable__label-arrow:before {color: black;}#sk-container-id-5 div.sk-toggleable__content {max-height: 0;max-width: 0;overflow: hidden;text-align: left;background-color: #f0f8ff;}#sk-container-id-5 div.sk-toggleable__content pre {margin: 0.2em;color: black;border-radius: 0.25em;background-color: #f0f8ff;}#sk-container-id-5 input.sk-toggleable__control:checked~div.sk-toggleable__content {max-height: 200px;max-width: 100%;overflow: auto;}#sk-container-id-5 input.sk-toggleable__control:checked~label.sk-toggleable__label-arrow:before {content: \"▾\";}#sk-container-id-5 div.sk-estimator input.sk-toggleable__control:checked~label.sk-toggleable__label {background-color: #d4ebff;}#sk-container-id-5 div.sk-label input.sk-toggleable__control:checked~label.sk-toggleable__label {background-color: #d4ebff;}#sk-container-id-5 input.sk-hidden--visually {border: 0;clip: rect(1px 1px 1px 1px);clip: rect(1px, 1px, 1px, 1px);height: 1px;margin: -1px;overflow: hidden;padding: 0;position: absolute;width: 1px;}#sk-container-id-5 div.sk-estimator {font-family: monospace;background-color: #f0f8ff;border: 1px dotted black;border-radius: 0.25em;box-sizing: border-box;margin-bottom: 0.5em;}#sk-container-id-5 div.sk-estimator:hover {background-color: #d4ebff;}#sk-container-id-5 div.sk-parallel-item::after {content: \"\";width: 100%;border-bottom: 1px solid gray;flex-grow: 1;}#sk-container-id-5 div.sk-label:hover label.sk-toggleable__label {background-color: #d4ebff;}#sk-container-id-5 div.sk-serial::before {content: \"\";position: absolute;border-left: 1px solid gray;box-sizing: border-box;top: 0;bottom: 0;left: 50%;z-index: 0;}#sk-container-id-5 div.sk-serial {display: flex;flex-direction: column;align-items: center;background-color: white;padding-right: 0.2em;padding-left: 0.2em;position: relative;}#sk-container-id-5 div.sk-item {position: relative;z-index: 1;}#sk-container-id-5 div.sk-parallel {display: flex;align-items: stretch;justify-content: center;background-color: white;position: relative;}#sk-container-id-5 div.sk-item::before, #sk-container-id-5 div.sk-parallel-item::before {content: \"\";position: absolute;border-left: 1px solid gray;box-sizing: border-box;top: 0;bottom: 0;left: 50%;z-index: -1;}#sk-container-id-5 div.sk-parallel-item {display: flex;flex-direction: column;z-index: 1;position: relative;background-color: white;}#sk-container-id-5 div.sk-parallel-item:first-child::after {align-self: flex-end;width: 50%;}#sk-container-id-5 div.sk-parallel-item:last-child::after {align-self: flex-start;width: 50%;}#sk-container-id-5 div.sk-parallel-item:only-child::after {width: 0;}#sk-container-id-5 div.sk-dashed-wrapped {border: 1px dashed gray;margin: 0 0.4em 0.5em 0.4em;box-sizing: border-box;padding-bottom: 0.4em;background-color: white;}#sk-container-id-5 div.sk-label label {font-family: monospace;font-weight: bold;display: inline-block;line-height: 1.2em;}#sk-container-id-5 div.sk-label-container {text-align: center;}#sk-container-id-5 div.sk-container {/* jupyter's `normalize.less` sets `[hidden] { display: none; }` but bootstrap.min.css set `[hidden] { display: none !important; }` so we also need the `!important` here to be able to override the default hidden behavior on the sphinx rendered scikit-learn.org. See: https://github.com/scikit-learn/scikit-learn/issues/21755 */display: inline-block !important;position: relative;}#sk-container-id-5 div.sk-text-repr-fallback {display: none;}</style><div id=\"sk-container-id-5\" class=\"sk-top-container\"><div class=\"sk-text-repr-fallback\"><pre>GaussianProcessRegressor(alpha=0.001, kernel=RBF(length_scale=1),\n",
       "                         random_state=3)</pre><b>In a Jupyter environment, please rerun this cell to show the HTML representation or trust the notebook. <br />On GitHub, the HTML representation is unable to render, please try loading this page with nbviewer.org.</b></div><div class=\"sk-container\" hidden><div class=\"sk-item\"><div class=\"sk-estimator sk-toggleable\"><input class=\"sk-toggleable__control sk-hidden--visually\" id=\"sk-estimator-id-5\" type=\"checkbox\" checked><label for=\"sk-estimator-id-5\" class=\"sk-toggleable__label sk-toggleable__label-arrow\">GaussianProcessRegressor</label><div class=\"sk-toggleable__content\"><pre>GaussianProcessRegressor(alpha=0.001, kernel=RBF(length_scale=1),\n",
       "                         random_state=3)</pre></div></div></div></div></div>"
      ],
      "text/plain": [
       "GaussianProcessRegressor(alpha=0.001, kernel=RBF(length_scale=1),\n",
       "                         random_state=3)"
      ]
     },
     "execution_count": 38,
     "metadata": {},
     "output_type": "execute_result"
    }
   ],
   "source": [
    "df = pd.DataFrame(np.random.randint(100, size=(m, len(x_range))), columns=[f\"i_{i}\" for i in range(len(x_range))])\n",
    "\n",
    "for i in range(len(x_range)):\n",
    "    df[f\"x_{i}\"] = X[0][0, df[f\"i_{i}\"], 0, 0]\n",
    "    \n",
    "df[\"y\"] = Y[tuple([df[f\"i_{i}\"] for i in range(len(x_range))])] + ran_err(m, 10)\n",
    "\n",
    "for idx in range(1, iterations + 1):\n",
    "    krnl = RBF(length_scale=1)\n",
    "    model = GaussianProcessRegressor(kernel=krnl, normalize_y=False, random_state=3, alpha=0.001)\n",
    "\n",
    "    tmp_df = pd.DataFrame(np.random.randint(100, size=(n, len(x_range))), columns=[f\"i_{i}\" for i in range(len(x_range))])\n",
    "\n",
    "    for i in range(len(x_range)):\n",
    "        tmp_df[f\"x_{i}\"] = X[0][0, tmp_df[f\"i_{i}\"], 0, 0]\n",
    "        \n",
    "    tmp_df[\"y\"] = liao_simulation([tmp_df[f\"x_{i}\"] for i in range(len(x_range))]) + ran_err(n, 10)\n",
    "\n",
    "    model.fit(tmp_df[[f\"x_{i}\" for i in range(len(x_range))]], tmp_df[\"y\"])\n",
    "\n",
    "    pred = model.predict(tmp_df[[f\"x_{i}\" for i in range(len(x_range))]])\n",
    "\n",
    "    y = griddata(tuple([tmp_df[f\"x_{i}\"] for i in range(len(x_range))]), pred, tuple(X), method=\"linear\", fill_value=y_range[0])\n",
    "\n",
    "    tmp_df = pd.DataFrame(np.random.randint(0, 100, size=(10000, 4)), columns=[f\"i_{i}\" for i in range(len(x_range))])\n",
    "\n",
    "    for i in range(len(x_range)):\n",
    "        tmp_df[f\"x_{i}\"] = X[0][0, tmp_df[f\"i_{i}\"], 0, 0]\n",
    "        \n",
    "    tmp_df[\"y\"] = liao_simulation([tmp_df[f\"x_{i}\"] for i in range(len(x_range))])\n",
    "\n",
    "    mag = y[tuple([tmp_df[f\"i_{i}\"] for i in range(len(x_range))])]\n",
    "\n",
    "    p = mag - y.min() + laplace_alpha\n",
    "\n",
    "    p = np.where(p > np.percentile(p, percentile), p, laplace_alpha)\n",
    "\n",
    "    p /= p.sum()\n",
    "\n",
    "    tmp_df = tmp_df.loc[np.random.choice(tmp_df.index, size=m, p=p, replace=False)]\n",
    "\n",
    "    df = pd.concat([df, tmp_df], ignore_index=True)\n",
    "\n",
    "krnl = RBF(length_scale=1)\n",
    "model = GaussianProcessRegressor(kernel=krnl, normalize_y=False, random_state=3, alpha=0.001)\n",
    "\n",
    "model.fit(df[[f\"x_{i}\" for i in range(len(x_range))]], df[\"y\"])"
   ]
  },
  {
   "cell_type": "code",
   "execution_count": 39,
   "metadata": {},
   "outputs": [
    {
     "name": "stdout",
     "output_type": "stream",
     "text": [
      "Predicted maximum: 105.94955761342028 at (38, 60, 99, 8)\n",
      "Actual maximum: 112.95467083064564 at (99, 99, 99, 13)\n",
      "RMSE: 17.645290520700872\n"
     ]
    }
   ],
   "source": [
    "pred = model.predict(df[[f\"x_{i}\" for i in range(len(x_range))]])\n",
    "\n",
    "y = griddata(tuple([df[f\"x_{i}\"] for i in range(len(x_range))]), pred, tuple(X), method=\"linear\", fill_value=y_range[0])\n",
    "\n",
    "print(\"Predicted maximum:\", Y[np.unravel_index(y.argmax(), y.shape)], \"at\", np.unravel_index(y.argmax(), y.shape))\n",
    "print(\"Actual maximum:\", Y.max(), \"at\", np.unravel_index(Y.argmax(), Y.shape))\n",
    "\n",
    "df = pd.DataFrame(np.random.randint(0, 100, size=(10000, 4)), columns=[f\"i_{i}\" for i in range(len(x_range))])\n",
    "\n",
    "for i in range(len(x_range)):\n",
    "    df[f\"x_{i}\"] = X[0][0, df[f\"i_{i}\"], 0, 0]\n",
    "    \n",
    "df[\"y\"] = Y[tuple([df[f\"i_{i}\"] for i in range(len(x_range))])]\n",
    "\n",
    "pred = model.predict(df[[f\"x_{i}\" for i in range(len(x_range))]])\n",
    "\n",
    "sum = np.sum((pred - df[\"y\"])**2)\n",
    "rmse = np.sqrt(sum / len(df[\"y\"]))\n",
    "\n",
    "print(\"RMSE:\", rmse)"
   ]
  },
  {
   "cell_type": "code",
   "execution_count": 40,
   "metadata": {},
   "outputs": [
    {
     "name": "stdout",
     "output_type": "stream",
     "text": [
      "31.311183072263816\n",
      "81.64348775838182\n",
      "112.95467083064564\n",
      "92.86990236199593\n",
      "96.55343347726301\n",
      "96.65730484672557\n",
      "100.47367416188011\n",
      "95.922811\n"
     ]
    }
   ],
   "source": [
    "print(np.max(Y) - np.min(Y))\n",
    "print(np.min(Y))\n",
    "print(np.max(Y))\n",
    "print(np.percentile(Y, 25))\n",
    "print(np.median(Y))\n",
    "print(np.average(Y))\n",
    "print(np.percentile(Y, 75))\n",
    "print(percentileofscore(Y.flatten(), Y[np.unravel_index(y.argmax(), y.shape)]))"
   ]
  }
 ],
 "metadata": {
  "kernelspec": {
   "display_name": "Python 3",
   "language": "python",
   "name": "python3"
  },
  "language_info": {
   "codemirror_mode": {
    "name": "ipython",
    "version": 3
   },
   "file_extension": ".py",
   "mimetype": "text/x-python",
   "name": "python",
   "nbconvert_exporter": "python",
   "pygments_lexer": "ipython3",
   "version": "3.10.10"
  },
  "orig_nbformat": 4
 },
 "nbformat": 4,
 "nbformat_minor": 2
}
